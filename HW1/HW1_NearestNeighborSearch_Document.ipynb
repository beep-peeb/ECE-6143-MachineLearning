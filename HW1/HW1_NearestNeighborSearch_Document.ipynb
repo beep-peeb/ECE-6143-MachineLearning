{
 "cells": [
  {
   "cell_type": "markdown",
   "metadata": {},
   "source": [
    "## Nearest Neighbor Search \n",
    "#### Find which Document from a list of documents is most similar to the Query Document "
   ]
  },
  {
   "cell_type": "markdown",
   "metadata": {},
   "source": [
    "Step 1: Read the contents of the document and the Query Document and store them in individual arrays for each document.\n",
    "\n",
    "Assuming we have 5 search document and 1 Query Document "
   ]
  },
  {
   "cell_type": "code",
   "execution_count": 1,
   "metadata": {},
   "outputs": [],
   "source": [
    "import numpy as np\n",
    "import math\n",
    "\n",
    "d1 = open('d1.txt','r')\n",
    "d2 = open('d2.txt','r')\n",
    "d3 = open('d3.txt','r')\n",
    "d4 = open('d4.txt','r')\n",
    "d5 = open('d5.txt','r')\n",
    "dq = open('d_query.txt','r')\n",
    "\n",
    "def get_words(filename):\n",
    "    words = []\n",
    "    temp = []\n",
    "    while(True):\n",
    "        c = filename.read(1)\n",
    "        if(c.isalpha()):\n",
    "            temp.append(c)\n",
    "        else:\n",
    "            word = ''.join(temp)\n",
    "            if(word!=\"\"):\n",
    "                in_lowercase = word.casefold()\n",
    "                words.append(in_lowercase)\n",
    "                temp = []\n",
    "        if(c==''):\n",
    "            break\n",
    "    return words\n",
    "\n",
    "D1 = get_words(d1)\n",
    "D2 = get_words(d2)\n",
    "D3 = get_words(d3)\n",
    "D4 = get_words(d4)\n",
    "D5 = get_words(d5)\n",
    "DQ = get_words(dq)\n"
   ]
  },
  {
   "cell_type": "markdown",
   "metadata": {},
   "source": [
    "Step 2: Create a Dictionary (Complete Vocabulary List) for all the Document words"
   ]
  },
  {
   "cell_type": "code",
   "execution_count": 2,
   "metadata": {},
   "outputs": [],
   "source": [
    "VocabList = []\n",
    "D = [D1 , D2 , D3 , D4 , D5 , DQ]\n",
    "for i in range(6):\n",
    "    for j in range(len(D[i])):\n",
    "        temp = D[i][j]\n",
    "        index = VocabList.count(temp)\n",
    "        if(index==0):\n",
    "            VocabList.append(temp)\n",
    "            "
   ]
  },
  {
   "cell_type": "markdown",
   "metadata": {},
   "source": [
    "Step 3: Calculate the IDF value for each word in the VocabList \n",
    "\n",
    "    IDF = log( Total Number of Documents / No. of documents in which the word is present)"
   ]
  },
  {
   "cell_type": "code",
   "execution_count": 3,
   "metadata": {},
   "outputs": [],
   "source": [
    "idf_map = {}\n",
    "for i in range(len(VocabList)):\n",
    "    temp = VocabList[i]\n",
    "    count = 0\n",
    "    for j in range(6):\n",
    "        if(temp in D[j]):\n",
    "            count = count + 1\n",
    "    idf_map[temp] = math.log(6/count)\n",
    "    "
   ]
  },
  {
   "cell_type": "markdown",
   "metadata": {},
   "source": [
    "Step 4: Calculate the TF value for each word in each of the Document \n",
    "\n",
    "    TF  = (Number of times that word occurs in that document / Total words in that document )"
   ]
  },
  {
   "cell_type": "code",
   "execution_count": 4,
   "metadata": {},
   "outputs": [],
   "source": [
    "def get_tf_map(word_vector):\n",
    "    tf_map = {}\n",
    "    for i in range(len(word_vector)):\n",
    "        temp = word_vector[i]\n",
    "        if(temp in tf_map):\n",
    "             tf_map[temp] = (tf_map[temp] + 1)\n",
    "        else:\n",
    "            tf_map[temp] = 1\n",
    "    return tf_map\n",
    "\n",
    "tf_1 = get_tf_map(D1)\n",
    "tf_2 = get_tf_map(D2)\n",
    "tf_3 = get_tf_map(D3)\n",
    "tf_4 = get_tf_map(D4)\n",
    "tf_5 = get_tf_map(D5)\n",
    "tf_q = get_tf_map(DQ)\n"
   ]
  },
  {
   "cell_type": "markdown",
   "metadata": {},
   "source": [
    "Step 5: Calculate the complete TF-IDF vector for each of the document "
   ]
  },
  {
   "cell_type": "code",
   "execution_count": 5,
   "metadata": {},
   "outputs": [],
   "source": [
    "def get_complete_vector(idf,tf):\n",
    "    V = []\n",
    "    for word in idf:\n",
    "        if(word in tf):\n",
    "            val = idf[word]*tf[word]\n",
    "        else:\n",
    "            val = 0\n",
    "        V.append(val)\n",
    "    return V\n",
    "\n",
    "V1 = get_complete_vector(idf_map,tf_1)\n",
    "V2 = get_complete_vector(idf_map,tf_2)\n",
    "V3 = get_complete_vector(idf_map,tf_3)\n",
    "V4 = get_complete_vector(idf_map,tf_4)\n",
    "V5 = get_complete_vector(idf_map,tf_5)\n",
    "VQ = get_complete_vector(idf_map,tf_q)\n"
   ]
  },
  {
   "cell_type": "markdown",
   "metadata": {},
   "source": [
    "Step 6: Calculate the Cosine Similarty of each TF_IDF vector (per document) with the Query document vector\n",
    "\n",
    "    Cosine Similarity = <A,B> / (Norm(a)*Norm(b)) (Dot product / Individual Norms)"
   ]
  },
  {
   "cell_type": "code",
   "execution_count": 6,
   "metadata": {},
   "outputs": [],
   "source": [
    "def get_cosine(vec,q_vec):\n",
    "    dot = np.dot(vec,q_vec)\n",
    "    nv = np.linalg.norm(vec,2)\n",
    "    nq = np.linalg.norm(q_vec,2)\n",
    "    cosine = dot/(nv*nq)\n",
    "    return cosine\n",
    "\n",
    "c1 = get_cosine(V1,VQ)\n",
    "c2 = get_cosine(V2,VQ)\n",
    "c3 = get_cosine(V3,VQ)\n",
    "c4 = get_cosine(V4,VQ)\n",
    "c5 = get_cosine(V5,VQ)"
   ]
  },
  {
   "cell_type": "markdown",
   "metadata": {},
   "source": [
    "Step 7: Find the max similarity Value and display the document Name"
   ]
  },
  {
   "cell_type": "code",
   "execution_count": 7,
   "metadata": {},
   "outputs": [
    {
     "name": "stdout",
     "output_type": "stream",
     "text": [
      "The best match, is document d4.txt\n"
     ]
    }
   ],
   "source": [
    "C = [c1,c2,c3,c4,c5]\n",
    "num = np.argmax(C) + 1\n",
    "\n",
    "print('The best match, is document d%d.txt'%num)"
   ]
  },
  {
   "cell_type": "code",
   "execution_count": null,
   "metadata": {},
   "outputs": [],
   "source": []
  }
 ],
 "metadata": {
  "kernelspec": {
   "display_name": "Python 3",
   "language": "python",
   "name": "python3"
  },
  "language_info": {
   "codemirror_mode": {
    "name": "ipython",
    "version": 3
   },
   "file_extension": ".py",
   "mimetype": "text/x-python",
   "name": "python",
   "nbconvert_exporter": "python",
   "pygments_lexer": "ipython3",
   "version": "3.7.4"
  }
 },
 "nbformat": 4,
 "nbformat_minor": 2
}
