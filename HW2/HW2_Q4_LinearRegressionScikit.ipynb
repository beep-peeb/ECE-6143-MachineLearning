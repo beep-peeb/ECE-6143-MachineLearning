{
 "cells": [
  {
   "cell_type": "markdown",
   "metadata": {},
   "source": [
    "## Multivariate Linear Regression \n",
    "### Using ScikitLearn package"
   ]
  },
  {
   "cell_type": "code",
   "execution_count": 1,
   "metadata": {},
   "outputs": [],
   "source": [
    "import pandas as pd\n",
    "import numpy as np\n",
    "\n",
    "from sklearn import linear_model"
   ]
  },
  {
   "cell_type": "markdown",
   "metadata": {},
   "source": [
    "### 1. Get the Trainig Data from exp_train.csv"
   ]
  },
  {
   "cell_type": "code",
   "execution_count": 2,
   "metadata": {},
   "outputs": [
    {
     "name": "stdout",
     "output_type": "stream",
     "text": [
      "(8000, 7)\n",
      "(8000,)\n"
     ]
    }
   ],
   "source": [
    "\n",
    "names =[\n",
    "'t', # Time (secs)\n",
    "'q1', 'q2', 'q3', # Joint angle\n",
    "'dq1', 'dq2', 'dq3', # Joint velocity\n",
    "'I1', 'I2', 'I3', # Motor current (A)\n",
    "'eps21', 'eps22', 'eps31', 'eps32', # Strain measurements\n",
    "'ddq1', 'ddq2', 'ddq3' # Joint accelerations\n",
    "]\n",
    "\n",
    "df_train = pd.read_csv('exp_train.csv', header=None,sep=',',names=names, index_col=0) \n",
    "X_train = np.array(df_train[['q2','dq2','eps21', 'eps22', 'eps31','eps32','ddq2']])\n",
    "y_train = np.array(df_train['I2'])\n",
    "print(X_train.shape)\n",
    "print(y_train.shape)\n",
    "\n",
    "# df_train.head(6)\n"
   ]
  },
  {
   "cell_type": "markdown",
   "metadata": {},
   "source": [
    "### 2. Get the Testing Data from exp_test.csv"
   ]
  },
  {
   "cell_type": "code",
   "execution_count": 3,
   "metadata": {},
   "outputs": [
    {
     "name": "stdout",
     "output_type": "stream",
     "text": [
      "(8000, 7)\n",
      "(8000,)\n"
     ]
    }
   ],
   "source": [
    "df_test = pd.read_csv('exp_test.csv', header=None,sep=',',names=names, index_col=0) \n",
    "X_test = np.array(df_test[['q2','dq2','eps21', 'eps22', 'eps31','eps32','ddq2']])\n",
    "y_test = np.array(df_test['I2'])\n",
    "\n",
    "print(X_test.shape)\n",
    "print(y_test.shape)"
   ]
  },
  {
   "cell_type": "markdown",
   "metadata": {},
   "source": [
    "### 3. Fit the training data to a Scikit Learn LinearRegression Model"
   ]
  },
  {
   "cell_type": "code",
   "execution_count": 4,
   "metadata": {},
   "outputs": [
    {
     "data": {
      "text/plain": [
       "LinearRegression(copy_X=True, fit_intercept=True, n_jobs=None, normalize=False)"
      ]
     },
     "execution_count": 4,
     "metadata": {},
     "output_type": "execute_result"
    }
   ],
   "source": [
    "regr = linear_model.LinearRegression()\n",
    "regr.fit(X_train,y_train)\n",
    "\n",
    "# regr.intercept_\n",
    "# regr.coef_"
   ]
  },
  {
   "cell_type": "code",
   "execution_count": 5,
   "metadata": {},
   "outputs": [
    {
     "name": "stdout",
     "output_type": "stream",
     "text": [
      "Analysis for the Model\n",
      "R_square Error =            0.904167\n",
      "MSE  = 0.010936\n"
     ]
    }
   ],
   "source": [
    "y_train_pred = regr.predict(X_train)\n",
    "\n",
    "MSE_t = np.mean((y_train_pred - y_train)**2)\n",
    "\n",
    "RSS_t = np.mean((y_train_pred - y_train)**2)/(np.std(y_train)**2)\n",
    "Rsq_t = 1 - RSS_t\n",
    "\n",
    "print(\"Analysis for the Model\")\n",
    "# print(\"RSS per sample = {0:f}\".format(RSS_t))\n",
    "print(\"R_square Error =            {0:f}\".format(Rsq_t))\n",
    "print(\"MSE  = {0:f}\".format(MSE_t))\n"
   ]
  },
  {
   "cell_type": "markdown",
   "metadata": {},
   "source": [
    "### 4. Calculate MSE(Mean Square Error) and R-Squared Error for the test data"
   ]
  },
  {
   "cell_type": "code",
   "execution_count": 6,
   "metadata": {},
   "outputs": [
    {
     "name": "stdout",
     "output_type": "stream",
     "text": [
      "Analysis for the Test Data\n",
      "R_square Error =            0.873220\n",
      "MSE  = 0.009723\n"
     ]
    }
   ],
   "source": [
    "y_pred = regr.predict(X_test)\n",
    "\n",
    "MSE = np.mean((y_pred - y_test)**2)\n",
    "\n",
    "RSS = np.mean((y_pred-y_test)**2)/(np.std(y_test)**2)\n",
    "Rsq = 1 - RSS\n",
    "\n",
    "print(\"Analysis for the Test Data\")\n",
    "# print(\"RSS per sample = {0:f}\".format(RSS))\n",
    "print(\"R_square Error =            {0:f}\".format(Rsq))\n",
    "print(\"MSE  = {0:f}\".format(MSE))\n"
   ]
  },
  {
   "cell_type": "code",
   "execution_count": null,
   "metadata": {},
   "outputs": [],
   "source": []
  },
  {
   "cell_type": "code",
   "execution_count": null,
   "metadata": {},
   "outputs": [],
   "source": []
  },
  {
   "cell_type": "code",
   "execution_count": null,
   "metadata": {},
   "outputs": [],
   "source": []
  },
  {
   "cell_type": "code",
   "execution_count": null,
   "metadata": {},
   "outputs": [],
   "source": []
  },
  {
   "cell_type": "code",
   "execution_count": 7,
   "metadata": {},
   "outputs": [],
   "source": [
    "# y_pred = regr.predict(X_test)\n",
    "# FVU = np.mean((y_test-y_pred)**2)/(np.std(y_test)**2)\n",
    "# R2 = 1 - FVU\n",
    "# print(R2,FVU)"
   ]
  }
 ],
 "metadata": {
  "kernelspec": {
   "display_name": "Python 3",
   "language": "python",
   "name": "python3"
  },
  "language_info": {
   "codemirror_mode": {
    "name": "ipython",
    "version": 3
   },
   "file_extension": ".py",
   "mimetype": "text/x-python",
   "name": "python",
   "nbconvert_exporter": "python",
   "pygments_lexer": "ipython3",
   "version": "3.7.4"
  }
 },
 "nbformat": 4,
 "nbformat_minor": 2
}
