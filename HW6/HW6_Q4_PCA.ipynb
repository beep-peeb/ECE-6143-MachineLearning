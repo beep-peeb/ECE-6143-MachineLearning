{
  "nbformat": 4,
  "nbformat_minor": 0,
  "metadata": {
    "colab": {
      "name": "HW6_Q4_PCA.ipynb",
      "provenance": [],
      "collapsed_sections": []
    },
    "kernelspec": {
      "name": "python3",
      "display_name": "Python 3"
    }
  },
  "cells": [
    {
      "cell_type": "markdown",
      "metadata": {
        "id": "DxvLqSmH1p04",
        "colab_type": "text"
      },
      "source": [
        "## PCA Algorithm \n",
        "Using PCA to interpret The \"Places Rated Almanac dataset\". "
      ]
    },
    {
      "cell_type": "code",
      "metadata": {
        "id": "6APYHEoRzjzU",
        "colab_type": "code",
        "colab": {}
      },
      "source": [
        "import pandas as pd\n",
        "import numpy as np\n",
        "import matplotlib.pyplot as plt\n",
        "from sklearn.decomposition import PCA"
      ],
      "execution_count": 0,
      "outputs": []
    },
    {
      "cell_type": "markdown",
      "metadata": {
        "id": "kBOWRCOg1y69",
        "colab_type": "text"
      },
      "source": [
        "Load the data from the text file into a dataframe and apply transformation on them to visualize the data better.   \n"
      ]
    },
    {
      "cell_type": "code",
      "metadata": {
        "id": "1oLWKrQ90AXn",
        "colab_type": "code",
        "colab": {}
      },
      "source": [
        "names = [\"City\",\"Climate\",\"HousingCost\",\"HlthCare\",\"Crime\",\"Transp\",\"Educ\",\"Arts\",\"Recreat\",\"Econ\",\"CaseNum\",\"Long\",\"Lat\",\"Pop\",\"StNum\"]\n",
        "df = pd.read_csv('places.txt', delimiter= '\\s+', index_col=0, names=names, header=0)\n"
      ],
      "execution_count": 0,
      "outputs": []
    },
    {
      "cell_type": "markdown",
      "metadata": {
        "id": "Y5ZSVASi2Qcf",
        "colab_type": "text"
      },
      "source": [
        "### Base-10 Log \n",
        "Replace each value in the matrix by its base-10 logarithm.  \n",
        "Zero center the data by subracting it with the mean "
      ]
    },
    {
      "cell_type": "code",
      "metadata": {
        "id": "6rPc7nMjKdQp",
        "colab_type": "code",
        "outputId": "24ac43af-a46c-48e6-9cad-877c3b2a80ae",
        "colab": {
          "base_uri": "https://localhost:8080/",
          "height": 243
        }
      },
      "source": [
        "df = df.iloc[:,0:9]\n",
        "df_log = df.applymap(np.log10)\n",
        "df_log['Crime'] *=-1\n",
        "df_log['HousingCost'] *=-1\n",
        "data_log = np.array(df_log)\n",
        "\n",
        "#Take mean and zero center the data \n",
        "mean = np.mean(data_log, axis = 0)\n",
        "centeredData_log = (data_log - mean)/data_log.std(axis=0)\n",
        "centeredData_log\n"
      ],
      "execution_count": 0,
      "outputs": [
        {
          "output_type": "execute_result",
          "data": {
            "text/plain": [
              "array([[-0.0146104 ,  1.09334523, -1.81466828, ..., -0.38204575,\n",
              "        -0.42048755,  1.76068679],\n",
              "       [ 0.36317424, -0.0287494 ,  0.8236051 , ...,  0.9905768 ,\n",
              "         1.03251583, -1.13447984],\n",
              "       [-0.42557567,  0.3975793 , -0.51401725, ..., -1.52755963,\n",
              "        -1.55941442, -0.16624651],\n",
              "       ...,\n",
              "       [ 0.12260219, -0.14520552, -0.31996628, ..., -0.36148463,\n",
              "        -1.60568435, -0.47336364],\n",
              "       [ 0.32971804,  0.58032282,  0.26472997, ...,  0.44181522,\n",
              "        -0.55269983, -1.7046466 ],\n",
              "       [ 0.57694641,  0.10677591, -1.96594574, ..., -2.05738677,\n",
              "        -1.40564708, -0.74261257]])"
            ]
          },
          "metadata": {
            "tags": []
          },
          "execution_count": 4
        }
      ]
    },
    {
      "cell_type": "markdown",
      "metadata": {
        "id": "GoGkcKqgBQkP",
        "colab_type": "text"
      },
      "source": [
        "Calculate the Eigen Value and the Eigen vectore for the centered Base 10 log data.  "
      ]
    },
    {
      "cell_type": "code",
      "metadata": {
        "id": "58I6UBm0A0Ex",
        "colab_type": "code",
        "outputId": "4c1e5c32-a7e6-497c-9179-d1eae4cfba62",
        "colab": {
          "base_uri": "https://localhost:8080/",
          "height": 451
        }
      },
      "source": [
        "Q = np.cov(centeredData_log.T)\n",
        "eigenValues, eigenVectors = np.linalg.eig(Q)\n",
        "print(\"\\n For covariance matrix Q \\n\\n eigen values -- {0} \\n\\n eigen vectors -- \\n{1}\".format(eigenValues,eigenVectors))\n"
      ],
      "execution_count": 0,
      "outputs": [
        {
          "output_type": "stream",
          "text": [
            "\n",
            " For covariance matrix Q \n",
            "\n",
            " eigen values -- [3.30784725 1.21726176 1.10890038 0.25189379 0.31904189 0.48529568\n",
            " 0.56389978 0.91004594 0.86325256] \n",
            "\n",
            " eigen vectors -- \n",
            "[[-0.15794137  0.06862938 -0.79970997 -0.03009755 -0.34112819  0.15135161\n",
            "  -0.21669497  0.37680952 -0.04104588]\n",
            " [ 0.3844053  -0.13920883  0.07961647 -0.04226906 -0.60610102 -0.2751971\n",
            "  -0.08222008 -0.19654301 -0.57986793]\n",
            " [-0.40990962 -0.37181203  0.01947537 -0.59412763 -0.15005752 -0.13497502\n",
            "   0.5348756   0.11252206 -0.02956935]\n",
            " [ 0.2591017  -0.47413246  0.12846722  0.05101188 -0.42012549  0.10950357\n",
            "  -0.13990092  0.04229962  0.692171  ]\n",
            " [-0.37488902 -0.14148642  0.14106828 -0.13584327 -0.11883253  0.67856704\n",
            "  -0.3238914  -0.43007675 -0.19141608]\n",
            " [-0.27432537 -0.45235526  0.24105584  0.1101242   0.21117489 -0.26209582\n",
            "  -0.52658273  0.45694297 -0.22474374]\n",
            " [-0.47384706 -0.1044102  -0.01102628  0.74672678 -0.2598673  -0.12049856\n",
            "   0.32105707 -0.1468813  -0.01193024]\n",
            " [-0.35341176  0.29194243 -0.04181639 -0.22636544 -0.13771814 -0.55309377\n",
            "  -0.39413877 -0.40401889  0.30565371]\n",
            " [-0.16401345  0.54045312  0.50731026 -0.04790278 -0.41477357  0.1468669\n",
            "   0.00097374  0.47578009  0.03710776]]\n"
          ],
          "name": "stdout"
        }
      ]
    },
    {
      "cell_type": "markdown",
      "metadata": {
        "id": "gc18TqigBZkX",
        "colab_type": "text"
      },
      "source": [
        "From the above Eigen values We can see that the First Eigen Vector corresponds to the Principal Component 1 and the second Eigen Vectore corresponds to the principal component 2 as the Eigen values and the Eigen vectors are ordered in a decreasing order   \n",
        "\n",
        "Principal Component 1 coreleated the most with Factor 3 as it has the maximun absolutve value in the Eigen vector    \n",
        "Principal Component 2 coreleated tjhe most with Factor 5 as it has the maximun absolutve value in the Eigen vector  "
      ]
    },
    {
      "cell_type": "code",
      "metadata": {
        "id": "z0jvB1emByQT",
        "colab_type": "code",
        "outputId": "dbf5f806-c440-4161-8098-2737183cba8a",
        "colab": {
          "base_uri": "https://localhost:8080/",
          "height": 139
        }
      },
      "source": [
        "print(\"Principal Component 1 Factor\" )\n",
        "print(np.argmax(abs(eigenVectors[0]), axis=0)+1)\n",
        "print(eigenVectors[0].max())\n",
        "\n",
        "print(\"\\nPrincipal Component 2 Factor - \" )\n",
        "print(np.argmax(abs(eigenVectors[1]), axis=0)+1)\n",
        "print(eigenVectors[1].max())\n"
      ],
      "execution_count": 0,
      "outputs": [
        {
          "output_type": "stream",
          "text": [
            "Principal Component 1 Factor\n",
            "3\n",
            "0.3768095243253605\n",
            "\n",
            "Principal Component 2 Factor - \n",
            "5\n",
            "0.38440529512942356\n"
          ],
          "name": "stdout"
        }
      ]
    },
    {
      "cell_type": "markdown",
      "metadata": {
        "id": "TTW8VYHq2X19",
        "colab_type": "text"
      },
      "source": [
        "Apply PCA on the base-10 logarithm dataset  \n",
        "Project the data points onto the first two principal components"
      ]
    },
    {
      "cell_type": "code",
      "metadata": {
        "id": "zNGg8uPHKfST",
        "colab_type": "code",
        "outputId": "1c08cc0e-ae55-44ba-baec-7de72fe18220",
        "colab": {
          "base_uri": "https://localhost:8080/",
          "height": 278
        }
      },
      "source": [
        "pca = PCA(n_components=2, svd_solver='full')\n",
        "data_projected = pca.fit_transform(centeredData_log) \n",
        "prinComp= pd.DataFrame(data = data_projected, columns = ['PC1', 'PC2'])\n",
        "print(\"coefficients of PCA \\n\", prinComp)\n",
        "\n",
        "## The First 2 Principal Components correlate the most with the 9 factors. "
      ],
      "execution_count": 0,
      "outputs": [
        {
          "output_type": "stream",
          "text": [
            "coefficients of PCA \n",
            "           PC1       PC2\n",
            "0   -1.200682  1.476616\n",
            "1    0.939742 -0.248828\n",
            "2   -2.351070  0.340247\n",
            "3    1.381363 -1.616198\n",
            "4    2.441079  0.191886\n",
            "..        ...       ...\n",
            "324  0.147322 -1.865869\n",
            "325 -1.178694  1.106406\n",
            "326 -1.832309 -1.333580\n",
            "327 -0.358268 -1.334945\n",
            "328 -2.911026  1.255275\n",
            "\n",
            "[329 rows x 2 columns]\n"
          ],
          "name": "stdout"
        }
      ]
    },
    {
      "cell_type": "code",
      "metadata": {
        "id": "Y5A1PmA56ect",
        "colab_type": "code",
        "colab": {}
      },
      "source": [
        ""
      ],
      "execution_count": 0,
      "outputs": []
    },
    {
      "cell_type": "markdown",
      "metadata": {
        "id": "dSRZUE9b3IFv",
        "colab_type": "text"
      },
      "source": [
        "Project the data points onto the first two principal components"
      ]
    },
    {
      "cell_type": "code",
      "metadata": {
        "id": "TbyV2EgzLCYc",
        "colab_type": "code",
        "outputId": "78d3b06e-e108-4e1e-fd63-22a38aa0b98b",
        "colab": {
          "base_uri": "https://localhost:8080/",
          "height": 391
        }
      },
      "source": [
        "plt.figure(figsize =(8, 6))   \n",
        "plt.scatter(data_projected[:, 0], data_projected[:, 1]) \n",
        "\n",
        "# labeling x and y axes \n",
        "plt.xlabel('First Principal Component') \n",
        "plt.ylabel('Second Principal Component') \n",
        "plt.show()"
      ],
      "execution_count": 0,
      "outputs": [
        {
          "output_type": "display_data",
          "data": {
            "image/png": "[encoded data removed]",
            "text/plain": [
              "<Figure size 576x432 with 1 Axes>"
            ]
          },
          "metadata": {
            "tags": [],
            "needs_background": "light"
          }
        }
      ]
    },
    {
      "cell_type": "markdown",
      "metadata": {
        "id": "SvCN2jw93kOW",
        "colab_type": "text"
      },
      "source": [
        "Identify the Outliers in by checking the plot and applying thesholds "
      ]
    },
    {
      "cell_type": "code",
      "metadata": {
        "id": "0_HCYwtoLTbO",
        "colab_type": "code",
        "outputId": "ff5b22f6-4cfb-4a0e-9ae5-fc766e3dd725",
        "colab": {
          "base_uri": "https://localhost:8080/",
          "height": 175
        }
      },
      "source": [
        "result = np.where((data_projected[:,0] > 5) | (data_projected[:,1] > 3.5))\n",
        "# print(result)\n",
        "\n",
        "#Cities that are Outliers \n",
        "df.iloc[result[0],:]"
      ],
      "execution_count": 0,
      "outputs": [
        {
          "output_type": "execute_result",
          "data": {
            "text/html": [
              "<div>\n",
              "<style scoped>\n",
              "    .dataframe tbody tr th:only-of-type {\n",
              "        vertical-align: middle;\n",
              "    }\n",
              "\n",
              "    .dataframe tbody tr th {\n",
              "        vertical-align: top;\n",
              "    }\n",
              "\n",
              "    .dataframe thead th {\n",
              "        text-align: right;\n",
              "    }\n",
              "</style>\n",
              "<table border=\"1\" class=\"dataframe\">\n",
              "  <thead>\n",
              "    <tr style=\"text-align: right;\">\n",
              "      <th></th>\n",
              "      <th>Climate</th>\n",
              "      <th>HousingCost</th>\n",
              "      <th>HlthCare</th>\n",
              "      <th>Crime</th>\n",
              "      <th>Transp</th>\n",
              "      <th>Educ</th>\n",
              "      <th>Arts</th>\n",
              "      <th>Recreat</th>\n",
              "      <th>Econ</th>\n",
              "    </tr>\n",
              "    <tr>\n",
              "      <th>City</th>\n",
              "      <th></th>\n",
              "      <th></th>\n",
              "      <th></th>\n",
              "      <th></th>\n",
              "      <th></th>\n",
              "      <th></th>\n",
              "      <th></th>\n",
              "      <th></th>\n",
              "      <th></th>\n",
              "    </tr>\n",
              "  </thead>\n",
              "  <tbody>\n",
              "    <tr>\n",
              "      <th>Midland,TX</th>\n",
              "      <td>603</td>\n",
              "      <td>8672</td>\n",
              "      <td>97</td>\n",
              "      <td>1166</td>\n",
              "      <td>5310</td>\n",
              "      <td>2416</td>\n",
              "      <td>438</td>\n",
              "      <td>1502</td>\n",
              "      <td>9980</td>\n",
              "    </tr>\n",
              "    <tr>\n",
              "      <th>New-York,NY</th>\n",
              "      <td>638</td>\n",
              "      <td>13358</td>\n",
              "      <td>7850</td>\n",
              "      <td>2498</td>\n",
              "      <td>8625</td>\n",
              "      <td>2984</td>\n",
              "      <td>56745</td>\n",
              "      <td>3579</td>\n",
              "      <td>5338</td>\n",
              "    </tr>\n",
              "    <tr>\n",
              "      <th>San-Francisco,CA</th>\n",
              "      <td>910</td>\n",
              "      <td>17158</td>\n",
              "      <td>3726</td>\n",
              "      <td>1619</td>\n",
              "      <td>8299</td>\n",
              "      <td>3371</td>\n",
              "      <td>14226</td>\n",
              "      <td>4600</td>\n",
              "      <td>6063</td>\n",
              "    </tr>\n",
              "  </tbody>\n",
              "</table>\n",
              "</div>"
            ],
            "text/plain": [
              "                  Climate  HousingCost  HlthCare  ...   Arts  Recreat  Econ\n",
              "City                                              ...                      \n",
              "Midland,TX            603         8672        97  ...    438     1502  9980\n",
              "New-York,NY           638        13358      7850  ...  56745     3579  5338\n",
              "San-Francisco,CA      910        17158      3726  ...  14226     4600  6063\n",
              "\n",
              "[3 rows x 9 columns]"
            ]
          },
          "metadata": {
            "tags": []
          },
          "execution_count": 9
        }
      ]
    },
    {
      "cell_type": "markdown",
      "metadata": {
        "id": "XHhpKlKB4Ln9",
        "colab_type": "text"
      },
      "source": [
        "### ZScore \n",
        "Modify the Data using teh ZScore "
      ]
    },
    {
      "cell_type": "code",
      "metadata": {
        "id": "Ji3yfCpQzPKv",
        "colab_type": "code",
        "outputId": "0f8618bd-2ea4-4346-d75c-59f9df1c353a",
        "colab": {
          "base_uri": "https://localhost:8080/",
          "height": 243
        }
      },
      "source": [
        "zscoreData = np.array(df)\n",
        "zscore_data = (zscoreData - zscoreData.mean(axis = 0))/zscoreData.std(axis=0)\n",
        "\n",
        "zscore_data[3] = abs(zscore_data[3])*-1\n",
        "zscore_data[1] = abs(zscore_data[1])*-1\n",
        "print(zscore_data)\n"
      ],
      "execution_count": 0,
      "outputs": [
        {
          "output_type": "stream",
          "text": [
            "[[-0.14700595 -0.90129655 -0.9473398  ... -0.46489336 -0.54664636\n",
            "   1.94643332]\n",
            " [-0.30066422 -0.08756979 -0.46956805 ... -0.52060395 -0.97444164\n",
            "  -1.08546728]\n",
            " [-0.58638594 -0.42305363 -0.56690154 ... -0.62863952 -1.22351192\n",
            "  -0.25430354]\n",
            " ...\n",
            " [ 0.01050762  0.01026216 -0.47204161 ... -0.45928414 -1.24458649\n",
            "  -0.53505218]\n",
            " [ 0.25921328 -0.55657536 -0.08860777 ... -0.07634681 -0.64334144\n",
            "  -1.50659023]\n",
            " [ 0.57424044 -0.19799814 -0.97230294 ... -0.65344954 -1.15037077\n",
            "  -0.76777803]]\n"
          ],
          "name": "stdout"
        }
      ]
    },
    {
      "cell_type": "code",
      "metadata": {
        "id": "rzZ4p4jjChdm",
        "colab_type": "code",
        "outputId": "0f22afb7-9c80-4e8a-f6f5-1586138c4f5e",
        "colab": {
          "base_uri": "https://localhost:8080/",
          "height": 451
        }
      },
      "source": [
        "Q = np.cov(zscore_data.T)\n",
        "eigenValuesZ, eigenVectorsZ = np.linalg.eig(Q)\n",
        "print(\"\\n For covariance matrix Q \\n\\n eigen values -- {0} \\n\\n eigen vectors -- \\n{1}\".format(eigenValues,eigenVectors))\n"
      ],
      "execution_count": 0,
      "outputs": [
        {
          "output_type": "stream",
          "text": [
            "\n",
            " For covariance matrix Q \n",
            "\n",
            " eigen values -- [3.30784725 1.21726176 1.10890038 0.25189379 0.31904189 0.48529568\n",
            " 0.56389978 0.91004594 0.86325256] \n",
            "\n",
            " eigen vectors -- \n",
            "[[-0.15794137  0.06862938 -0.79970997 -0.03009755 -0.34112819  0.15135161\n",
            "  -0.21669497  0.37680952 -0.04104588]\n",
            " [ 0.3844053  -0.13920883  0.07961647 -0.04226906 -0.60610102 -0.2751971\n",
            "  -0.08222008 -0.19654301 -0.57986793]\n",
            " [-0.40990962 -0.37181203  0.01947537 -0.59412763 -0.15005752 -0.13497502\n",
            "   0.5348756   0.11252206 -0.02956935]\n",
            " [ 0.2591017  -0.47413246  0.12846722  0.05101188 -0.42012549  0.10950357\n",
            "  -0.13990092  0.04229962  0.692171  ]\n",
            " [-0.37488902 -0.14148642  0.14106828 -0.13584327 -0.11883253  0.67856704\n",
            "  -0.3238914  -0.43007675 -0.19141608]\n",
            " [-0.27432537 -0.45235526  0.24105584  0.1101242   0.21117489 -0.26209582\n",
            "  -0.52658273  0.45694297 -0.22474374]\n",
            " [-0.47384706 -0.1044102  -0.01102628  0.74672678 -0.2598673  -0.12049856\n",
            "   0.32105707 -0.1468813  -0.01193024]\n",
            " [-0.35341176  0.29194243 -0.04181639 -0.22636544 -0.13771814 -0.55309377\n",
            "  -0.39413877 -0.40401889  0.30565371]\n",
            " [-0.16401345  0.54045312  0.50731026 -0.04790278 -0.41477357  0.1468669\n",
            "   0.00097374  0.47578009  0.03710776]]\n"
          ],
          "name": "stdout"
        }
      ]
    },
    {
      "cell_type": "markdown",
      "metadata": {
        "id": "LWYhrBREEvj3",
        "colab_type": "text"
      },
      "source": [
        "From the above Eigen values We can see that the First Eigen Vector corresponds to the Principal Component 1 and the second Eigen Vectore corresponds to the principal component 2 as the Eigen values and the Eigen vectors are ordered in a decreasing order   \n",
        "\n",
        "Principal Component 1 coreleated the most with Factor 3 as it has the maximun absolutve value in the Eigen vector    \n",
        "Principal Component 2 coreleated tjhe most with Factor 8 as it has the maximun absolutve value in the Eigen vector  "
      ]
    },
    {
      "cell_type": "code",
      "metadata": {
        "id": "oaroRaNpEnuj",
        "colab_type": "code",
        "outputId": "8600c563-109b-4a12-a754-2c487575bf8d",
        "colab": {
          "base_uri": "https://localhost:8080/",
          "height": 139
        }
      },
      "source": [
        "print(\"Principal Component 1 Factor\" )\n",
        "print(np.argmax(abs(eigenVectorsZ[0]), axis=0)+1)\n",
        "print(eigenVectorsZ[0].max())\n",
        "\n",
        "print(\"\\nPrincipal Component 2 Factor - \" )\n",
        "print(np.argmax(abs(eigenVectorsZ[1]), axis=0)+1)\n",
        "print(eigenVectorsZ[1].max())\n"
      ],
      "execution_count": 0,
      "outputs": [
        {
          "output_type": "stream",
          "text": [
            "Principal Component 1 Factor\n",
            "3\n",
            "0.7100968574788746\n",
            "\n",
            "Principal Component 2 Factor - \n",
            "8\n",
            "0.5054951475375103\n"
          ],
          "name": "stdout"
        }
      ]
    },
    {
      "cell_type": "markdown",
      "metadata": {
        "id": "iZ7qIvWX4veT",
        "colab_type": "text"
      },
      "source": [
        "Apply PCA on the ZScore dataset  \n",
        "Project the data points onto the first two principal components"
      ]
    },
    {
      "cell_type": "code",
      "metadata": {
        "id": "h9Aq8D6NJk84",
        "colab_type": "code",
        "outputId": "3477a81d-6562-4366-9528-9228a574433b",
        "colab": {
          "base_uri": "https://localhost:8080/",
          "height": 278
        }
      },
      "source": [
        "from sklearn.decomposition import PCA\n",
        "pca = PCA(n_components=2)\n",
        "zscore_pca = pca.fit_transform(zscore_data)\n",
        "zscore_prinComp = pd.DataFrame(data = zscore_pca, columns = ['PC1', 'PC2'])\n",
        "print(\"coefficients of PCA \\n\",zscore_prinComp)\n"
      ],
      "execution_count": 0,
      "outputs": [
        {
          "output_type": "stream",
          "text": [
            "coefficients of PCA \n",
            "           PC1       PC2\n",
            "0   -1.019423  1.010556\n",
            "1   -1.553469 -0.227711\n",
            "2   -1.864915  0.058223\n",
            "3   -1.991790  0.519972\n",
            "4    2.173049  0.315150\n",
            "..        ...       ...\n",
            "324 -0.125491 -1.654023\n",
            "325 -1.119422  0.695128\n",
            "326 -1.698734 -0.948904\n",
            "327 -0.753445 -1.168312\n",
            "328 -1.715437  0.619603\n",
            "\n",
            "[329 rows x 2 columns]\n"
          ],
          "name": "stdout"
        }
      ]
    },
    {
      "cell_type": "code",
      "metadata": {
        "id": "xZI2RyoOJpzc",
        "colab_type": "code",
        "outputId": "aa60cdfa-22c6-495d-e315-780809436597",
        "colab": {
          "base_uri": "https://localhost:8080/",
          "height": 388
        }
      },
      "source": [
        "plt.figure(figsize =(8, 6))   \n",
        "plt.scatter(zscore_pca[:, 0], zscore_pca[:, 1]) \n",
        "\n",
        "# labeling x and y axes \n",
        "plt.xlabel('First Principal Component') \n",
        "plt.ylabel('Second Principal Component') \n",
        "plt.show()"
      ],
      "execution_count": 0,
      "outputs": [
        {
          "output_type": "display_data",
          "data": {
            "image/png": "[encoded data removed]",
            "text/plain": [
              "<Figure size 576x432 with 1 Axes>"
            ]
          },
          "metadata": {
            "tags": [],
            "needs_background": "light"
          }
        }
      ]
    },
    {
      "cell_type": "markdown",
      "metadata": {
        "id": "9nWZZG205FB7",
        "colab_type": "text"
      },
      "source": [
        "Identify the Outliers in by checking the plot and applying thesholds "
      ]
    },
    {
      "cell_type": "code",
      "metadata": {
        "id": "Jw8fEmYyJs91",
        "colab_type": "code",
        "outputId": "c6b10a5d-aae3-4fa3-c5de-c8f7f9e8abbd",
        "colab": {
          "base_uri": "https://localhost:8080/",
          "height": 112
        }
      },
      "source": [
        "result = np.where(zscore_pca[:,0]>10)\n",
        "# print(result)\n",
        "\n",
        "df.iloc[result[0],:]\n"
      ],
      "execution_count": 0,
      "outputs": [
        {
          "output_type": "execute_result",
          "data": {
            "text/html": [
              "<div>\n",
              "<style scoped>\n",
              "    .dataframe tbody tr th:only-of-type {\n",
              "        vertical-align: middle;\n",
              "    }\n",
              "\n",
              "    .dataframe tbody tr th {\n",
              "        vertical-align: top;\n",
              "    }\n",
              "\n",
              "    .dataframe thead th {\n",
              "        text-align: right;\n",
              "    }\n",
              "</style>\n",
              "<table border=\"1\" class=\"dataframe\">\n",
              "  <thead>\n",
              "    <tr style=\"text-align: right;\">\n",
              "      <th></th>\n",
              "      <th>Climate</th>\n",
              "      <th>HousingCost</th>\n",
              "      <th>HlthCare</th>\n",
              "      <th>Crime</th>\n",
              "      <th>Transp</th>\n",
              "      <th>Educ</th>\n",
              "      <th>Arts</th>\n",
              "      <th>Recreat</th>\n",
              "      <th>Econ</th>\n",
              "    </tr>\n",
              "    <tr>\n",
              "      <th>City</th>\n",
              "      <th></th>\n",
              "      <th></th>\n",
              "      <th></th>\n",
              "      <th></th>\n",
              "      <th></th>\n",
              "      <th></th>\n",
              "      <th></th>\n",
              "      <th></th>\n",
              "      <th></th>\n",
              "    </tr>\n",
              "  </thead>\n",
              "  <tbody>\n",
              "    <tr>\n",
              "      <th>New-York,NY</th>\n",
              "      <td>638</td>\n",
              "      <td>13358</td>\n",
              "      <td>7850</td>\n",
              "      <td>2498</td>\n",
              "      <td>8625</td>\n",
              "      <td>2984</td>\n",
              "      <td>56745</td>\n",
              "      <td>3579</td>\n",
              "      <td>5338</td>\n",
              "    </tr>\n",
              "  </tbody>\n",
              "</table>\n",
              "</div>"
            ],
            "text/plain": [
              "             Climate  HousingCost  HlthCare  Crime  ...  Educ   Arts  Recreat  Econ\n",
              "City                                                ...                            \n",
              "New-York,NY      638        13358      7850   2498  ...  2984  56745     3579  5338\n",
              "\n",
              "[1 rows x 9 columns]"
            ]
          },
          "metadata": {
            "tags": []
          },
          "execution_count": 15
        }
      ]
    },
    {
      "cell_type": "markdown",
      "metadata": {
        "id": "0QKzuXYH50Q1",
        "colab_type": "text"
      },
      "source": [
        "## The ZScore has clustered the data more closely and thereby clearly distinguishing the outliers in the process "
      ]
    },
    {
      "cell_type": "code",
      "metadata": {
        "id": "o2OHfemS51fO",
        "colab_type": "code",
        "colab": {}
      },
      "source": [
        ""
      ],
      "execution_count": 0,
      "outputs": []
    }
  ]
}