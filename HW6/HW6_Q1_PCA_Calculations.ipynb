{
  "nbformat": 4,
  "nbformat_minor": 0,
  "metadata": {
    "colab": {
      "name": "HW6Q1.ipynb",
      "provenance": [],
      "collapsed_sections": []
    },
    "kernelspec": {
      "name": "python3",
      "display_name": "Python 3"
    }
  },
  "cells": [
    {
      "cell_type": "markdown",
      "metadata": {
        "id": "YpAAG1c3wR7b",
        "colab_type": "text"
      },
      "source": [
        "## PCA Calculations\n",
        "Principal Component Analysis calculation"
      ]
    },
    {
      "cell_type": "code",
      "metadata": {
        "id": "06D2RozsbPCi",
        "colab_type": "code",
        "colab": {}
      },
      "source": [
        "import numpy as np\n",
        "import pandas as pd\n",
        "import matplotlib.pyplot as plt\n",
        "from sklearn.decomposition import PCA\n"
      ],
      "execution_count": 0,
      "outputs": []
    },
    {
      "cell_type": "markdown",
      "metadata": {
        "id": "ekqH64R2xePA",
        "colab_type": "text"
      },
      "source": [
        "Find the Sample mean of each column "
      ]
    },
    {
      "cell_type": "code",
      "metadata": {
        "id": "vPJURD76Msgy",
        "colab_type": "code",
        "outputId": "fcf529dd-7c41-4d36-c5d2-c1fb39567ba8",
        "colab": {
          "base_uri": "https://localhost:8080/",
          "height": 52
        }
      },
      "source": [
        "X = np.array([[3,2,1],[2,4,5],[1,2,3],[0,2,5]])\n",
        "\n",
        "mean = np.mean(X, axis=0)\n",
        "print(\"mean of X columnwise -- {0}\\n \".format(mean))\n"
      ],
      "execution_count": 0,
      "outputs": [
        {
          "output_type": "stream",
          "text": [
            "mean of X columnwise -- [1.5 2.5 3.5]\n",
            " \n"
          ],
          "name": "stdout"
        }
      ]
    },
    {
      "cell_type": "markdown",
      "metadata": {
        "id": "fePpUqbUxsrV",
        "colab_type": "text"
      },
      "source": [
        "Zero Center the samples and calculate the covariance materix   \n",
        "1. Using the formiula in the class    \n",
        "2. Using the Nump cov method   \n",
        "\n",
        "Also calculate the eigenvalues and eigenvectors of the covariance\n",
        "matrix Q"
      ]
    },
    {
      "cell_type": "code",
      "metadata": {
        "id": "RcatKwZ8xsEP",
        "colab_type": "code",
        "outputId": "a913f388-adb3-4f6b-848e-74efe6a11ea1",
        "colab": {
          "base_uri": "https://localhost:8080/",
          "height": 330
        }
      },
      "source": [
        "zeroCentered = (X - mean)/X.std(axis=0)\n",
        "\n",
        "#(X.T*X)/n where n is the min(number of samples, number of features(dimensions))\n",
        "X_cov_formula = (np.dot(zeroCentered.T,zeroCentered))/3\n",
        "print(\"X_cov_formula \\n\", X_cov_formula)\n",
        "\n",
        "Q = np.cov(zeroCentered.T)\n",
        "print(\"\\nQ Covariance Matrix from Numpy \\n\",Q)\n",
        "\n",
        "#eigenvalues and eigenvectors of the data covariance matrix Q.\n",
        "eigenValues, eigenVectors = np.linalg.eig(Q)\n",
        "print(\"\\n For covariance matrix Q \\n\\n eigen values -- {0} \\n\\n eigen vectors -- \\n{1}\".format(eigenValues,eigenVectors))\n"
      ],
      "execution_count": 0,
      "outputs": [
        {
          "output_type": "stream",
          "text": [
            "X_cov_formula \n",
            " [[ 1.33333333  0.34426519 -0.89893315]\n",
            " [ 0.34426519  1.33333333  0.69631062]\n",
            " [-0.89893315  0.69631062  1.33333333]]\n",
            "\n",
            "Q Covariance Matrix from Numpy \n",
            " [[ 1.33333333  0.34426519 -0.89893315]\n",
            " [ 0.34426519  1.33333333  0.69631062]\n",
            " [-0.89893315  0.69631062  1.33333333]]\n",
            "\n",
            " For covariance matrix Q \n",
            "\n",
            " eigen values -- [0.01487691 1.66438126 2.32074183] \n",
            "\n",
            " eigen vectors -- \n",
            "[[ 0.57406999 -0.58872937 -0.56907062]\n",
            " [-0.49454449 -0.80321447  0.33207267]\n",
            " [ 0.6525867  -0.09079778  0.75225419]]\n"
          ],
          "name": "stdout"
        }
      ]
    },
    {
      "cell_type": "markdown",
      "metadata": {
        "id": "9FR2a1yjyzS6",
        "colab_type": "text"
      },
      "source": [
        "Run PCA on the data and find the PCA Coefficients "
      ]
    },
    {
      "cell_type": "code",
      "metadata": {
        "id": "S9BY4J0qvtHs",
        "colab_type": "code",
        "outputId": "9102f3f4-aaf0-46e7-c574-de1bed8c5229",
        "colab": {
          "base_uri": "https://localhost:8080/",
          "height": 121
        }
      },
      "source": [
        "pca = PCA(n_components=2)\n",
        "pca = pca.fit(X)\n",
        "X_PCA_Transform = pca.transform(X)\n",
        "\n",
        "# print(\"PCA Coeficients / Scores\")\n",
        "# print(pca.score_samples(X))\n",
        "\n",
        "coefficients = pd.DataFrame(data = X_PCA_Transform, columns = ['PC1', 'PC2'])\n",
        "print(\"Coefficients of PCA\")\n",
        "print(coefficients)\n"
      ],
      "execution_count": 0,
      "outputs": [
        {
          "output_type": "stream",
          "text": [
            "Coefficients of PCA\n",
            "        PC1       PC2\n",
            "0  2.951456  0.176110\n",
            "1 -1.371043  1.694062\n",
            "2  0.306825 -0.786944\n",
            "3 -1.887237 -1.083227\n"
          ],
          "name": "stdout"
        }
      ]
    },
    {
      "cell_type": "code",
      "metadata": {
        "id": "CXmhvc-TJfrG",
        "colab_type": "code",
        "outputId": "0a3f9f1f-e0a7-46a0-f78b-7609343b644a",
        "colab": {
          "base_uri": "https://localhost:8080/",
          "height": 405
        }
      },
      "source": [
        "# Display the Principal Components \n",
        "plt.figure(figsize =(8, 6)) \n",
        "plt.scatter(X_PCA_Transform[:, 0], X_PCA_Transform[:, 1])\n",
        "plt.xlabel('First Principal Component') \n",
        "plt.ylabel('Second Principal Component') \n"
      ],
      "execution_count": 0,
      "outputs": [
        {
          "output_type": "execute_result",
          "data": {
            "text/plain": [
              "Text(0, 0.5, 'Second Principal Component')"
            ]
          },
          "metadata": {
            "tags": []
          },
          "execution_count": 5
        },
        {
          "output_type": "display_data",
          "data": {
            "image/png": "[encoded data removed]",
            "text/plain": [
              "<Figure size 576x432 with 1 Axes>"
            ]
          },
          "metadata": {
            "tags": [],
            "needs_background": "light"
          }
        }
      ]
    },
    {
      "cell_type": "markdown",
      "metadata": {
        "id": "CvLWJfe4089M",
        "colab_type": "text"
      },
      "source": [
        "Reconstruct the original samples from the top two principal components"
      ]
    },
    {
      "cell_type": "code",
      "metadata": {
        "id": "_TJ_FXuDMuSr",
        "colab_type": "code",
        "outputId": "8e76dc1d-39ea-4344-dc9e-726761937d25",
        "colab": {
          "base_uri": "https://localhost:8080/",
          "height": 191
        }
      },
      "source": [
        "reconstructredData = pca.inverse_transform(X_PCA_Transform)\n",
        "print(\"Original Zero Centered \\n {0}\".format(Q))\n",
        "print(\"\\nReconstructed from PCA components \\n {0}\".format(reconstructredData))\n"
      ],
      "execution_count": 0,
      "outputs": [
        {
          "output_type": "stream",
          "text": [
            "Original Zero Centered \n",
            " [[ 1.33333333  0.34426519 -0.89893315]\n",
            " [ 0.34426519  1.33333333  0.69631062]\n",
            " [-0.89893315  0.69631062  1.33333333]]\n",
            "\n",
            "Reconstructed from PCA components \n",
            " [[ 2.94726021  2.05905526  0.95970224]\n",
            " [ 2.0118026   3.98678407  5.0090182 ]\n",
            " [ 1.11353336  1.87287129  3.0867493 ]\n",
            " [-0.07259617  2.08128939  4.94453025]]\n"
          ],
          "name": "stdout"
        }
      ]
    },
    {
      "cell_type": "markdown",
      "metadata": {
        "id": "IoUJ8UkK1Ajt",
        "colab_type": "text"
      },
      "source": [
        "Report the reconstruction error for each of the samples."
      ]
    },
    {
      "cell_type": "code",
      "metadata": {
        "id": "J19aeK6PM9yk",
        "colab_type": "code",
        "outputId": "e72c461c-7e74-4ef6-dea8-7bdeebd4dba0",
        "colab": {
          "base_uri": "https://localhost:8080/",
          "height": 121
        }
      },
      "source": [
        "error = ((X - reconstructredData)**2).mean(axis = 1)\n",
        "print(\"\\n\")\n",
        "for i,x in enumerate(error):\n",
        "  print(\"error in sample {0} = {1}\".format(i+1,x))"
      ],
      "execution_count": 0,
      "outputs": [
        {
          "output_type": "stream",
          "text": [
            "\n",
            "\n",
            "error in sample 1 = 0.0026309726752836763\n",
            "error in sample 2 = 0.00013176335616465643\n",
            "error in sample 3 = 0.012192325401358103\n",
            "error in sample 4 = 0.004985020477602205\n"
          ],
          "name": "stdout"
        }
      ]
    },
    {
      "cell_type": "code",
      "metadata": {
        "id": "Ez5uDe061emv",
        "colab_type": "code",
        "colab": {}
      },
      "source": [
        ""
      ],
      "execution_count": 0,
      "outputs": []
    }
  ]
}